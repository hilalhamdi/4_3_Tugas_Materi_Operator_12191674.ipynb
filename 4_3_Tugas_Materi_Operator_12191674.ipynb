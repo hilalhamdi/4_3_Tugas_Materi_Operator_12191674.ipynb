{
 "cells": [
  {
   "cell_type": "code",
   "execution_count": null,
   "metadata": {
    "id": "wOlm8I2lPwa7"
   },
   "outputs": [],
   "source": []
  },
  {
   "cell_type": "markdown",
   "metadata": {
    "id": "xQeqMxskP66X"
   },
   "source": [
    "##Tugas Praktek\n",
    "\n",
    "Buatlah sebuah program yang bisa menentukan suatu nilai pada variable itu genap atau ganjil! Lakukan percobaan dengan langkah berikut:\n",
    "\n",
    "Buat variabel dengan nama “angka” isi dengan nilai 10\n",
    "Ganti bagian … dengan perhitungan untuk menentukan angka modulus 2 bernilai 0.\n",
    "\n",
    "1.   Buat variabel dengan nama **“angka”** isi dengan nilai 10\n",
    "2.   Ganti bagian … dengan perhitungan untuk menentukan angka modulus 2 bernilai 0.\n",
    "\n",
    "\n",
    "Cek apakah benar dia bernilai genap maka keluarkan **\"angka termasuk bilangan genap\"**, jika sudah ganti nilai variable angka dengan nilai 5 cek lagi apakah dia bernilai ganjil dan keluarkan **\"angka termasuk bilangan ganjil\"**.\n",
    "\n",
    "Note: Anda bisa menggunakan materi-materi sebelumnya dengan menggabungkannya di tugas praktek ini untuk membantu anda dalam mengerjakan.\n",
    "\n",
    "\n",
    "Ketikan pada code cell di bawah ini pada editor:"
   ]
  },
  {
   "cell_type": "code",
   "execution_count": 5,
   "metadata": {
    "id": "eAf4FfQ-Qh57"
   },
   "outputs": [
    {
     "name": "stdout",
     "output_type": "stream",
     "text": [
      "Masukkan bilangan :5\n",
      " 5 Angka Ini termasuk bilangan ganjil\n"
     ]
    }
   ],
   "source": [
    "bil = int(input(\"Masukkan bilangan :\"))\n",
    "if bil % 2 == 0:\n",
    "    print (\" %d Angka ini termasuk bilangan genap\" % bil)\n",
    "else:\n",
    "    print (\" %d Angka Ini termasuk bilangan ganjil\" % bil)"
   ]
  },
  {
   "cell_type": "code",
   "execution_count": 6,
   "metadata": {},
   "outputs": [
    {
     "name": "stdout",
     "output_type": "stream",
     "text": [
      "Masukkan bilangan :6\n",
      " 6 Angka ini termasuk bilangan genap\n"
     ]
    }
   ],
   "source": [
    "bil = int(input(\"Masukkan bilangan :\"))\n",
    "if bil % 2 == 0:\n",
    "    print (\" %d Angka ini termasuk bilangan genap\" % bil)\n",
    "else:\n",
    "    print (\" %d Angka Ini termasuk bilangan ganjil\" % bil)"
   ]
  },
  {
   "cell_type": "code",
   "execution_count": 7,
   "metadata": {},
   "outputs": [
    {
     "name": "stdout",
     "output_type": "stream",
     "text": [
      "Masukkan bilangan :10\n",
      " 10 Angka ini termasuk bilangan genap\n"
     ]
    }
   ],
   "source": [
    "bil = int(input(\"Masukkan bilangan :\"))\n",
    "if bil % 2 == 0:\n",
    "    print (\" %d Angka ini termasuk bilangan genap\" % bil)\n",
    "else:\n",
    "    print (\" %d Angka Ini termasuk bilangan ganjil\" % bil)"
   ]
  },
  {
   "cell_type": "code",
   "execution_count": 8,
   "metadata": {},
   "outputs": [
    {
     "name": "stdout",
     "output_type": "stream",
     "text": [
      "Masukkan bilangan :8\n",
      " 8 Angka ini termasuk bilangan genap\n"
     ]
    }
   ],
   "source": [
    "bil = int(input(\"Masukkan bilangan :\"))\n",
    "if bil % 2 == 0:\n",
    "    print (\" %d Angka ini termasuk bilangan genap\" % bil)\n",
    "else:\n",
    "    print (\" %d Angka Ini termasuk bilangan ganjil\" % bil)"
   ]
  },
  {
   "cell_type": "code",
   "execution_count": 9,
   "metadata": {},
   "outputs": [
    {
     "name": "stdout",
     "output_type": "stream",
     "text": [
      "Masukkan bilangan :1\n",
      " 1 Angka Ini termasuk bilangan ganjil\n"
     ]
    }
   ],
   "source": [
    "bil = int(input(\"Masukkan bilangan :\"))\n",
    "if bil % 2 == 0:\n",
    "    print (\" %d Angka ini termasuk bilangan genap\" % bil)\n",
    "else:\n",
    "    print (\" %d Angka Ini termasuk bilangan ganjil\" % bil)"
   ]
  },
  {
   "cell_type": "code",
   "execution_count": 10,
   "metadata": {},
   "outputs": [
    {
     "name": "stdout",
     "output_type": "stream",
     "text": [
      "Masukkan bilangan :2\n",
      " 2 Angka ini termasuk bilangan genap\n"
     ]
    }
   ],
   "source": [
    "bil = int(input(\"Masukkan bilangan :\"))\n",
    "if bil % 2 == 0:\n",
    "    print (\" %d Angka ini termasuk bilangan genap\" % bil)\n",
    "else:\n",
    "    print (\" %d Angka Ini termasuk bilangan ganjil\" % bil)"
   ]
  },
  {
   "cell_type": "code",
   "execution_count": 11,
   "metadata": {},
   "outputs": [
    {
     "name": "stdout",
     "output_type": "stream",
     "text": [
      "Masukkan bilangan :3\n",
      " 3 Angka Ini termasuk bilangan ganjil\n"
     ]
    }
   ],
   "source": [
    "bil = int(input(\"Masukkan bilangan :\"))\n",
    "if bil % 2 == 0:\n",
    "    print (\" %d Angka ini termasuk bilangan genap\" % bil)\n",
    "else:\n",
    "    print (\" %d Angka Ini termasuk bilangan ganjil\" % bil)"
   ]
  },
  {
   "cell_type": "code",
   "execution_count": null,
   "metadata": {},
   "outputs": [],
   "source": []
  }
 ],
 "metadata": {
  "colab": {
   "collapsed_sections": [],
   "name": "4.3_Tugas_Materi_Operator.ipynb",
   "provenance": []
  },
  "kernelspec": {
   "display_name": "Python 3",
   "language": "python",
   "name": "python3"
  },
  "language_info": {
   "codemirror_mode": {
    "name": "ipython",
    "version": 3
   },
   "file_extension": ".py",
   "mimetype": "text/x-python",
   "name": "python",
   "nbconvert_exporter": "python",
   "pygments_lexer": "ipython3",
   "version": "3.8.3"
  }
 },
 "nbformat": 4,
 "nbformat_minor": 1
}
